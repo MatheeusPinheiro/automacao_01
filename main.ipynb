{
 "cells": [
  {
   "cell_type": "markdown",
   "metadata": {},
   "source": [
    "## Automação de Indicadores\n",
    "\n",
    "### Objetivo: Treinar e criar um projeto completo que envolva a automatização de um processo feito no computador\n"
   ]
  },
  {
   "cell_type": "code",
   "execution_count": 1,
   "metadata": {},
   "outputs": [],
   "source": [
    "#Importações\n",
    "import pandas as pd \n",
    "from pathlib import Path"
   ]
  },
  {
   "cell_type": "code",
   "execution_count": 2,
   "metadata": {},
   "outputs": [],
   "source": [
    "#Lendo os dados das bases de dados\n",
    "\n",
    "vendas_df = pd.read_excel(r'Bases de Dados\\Vendas.xlsx')\n",
    "emails_df = pd.read_excel(r'Bases de Dados\\Emails.xlsx')\n",
    "lojas_df =  pd.read_csv(r'Bases de Dados\\Lojas.csv', encoding='latin1', sep=';')"
   ]
  },
  {
   "cell_type": "code",
   "execution_count": 3,
   "metadata": {},
   "outputs": [],
   "source": [
    "#Incluir o nome da loja em vendas\n",
    "vendas = vendas_df.merge(lojas_df, on='ID Loja')\n",
    "#display(vendas)"
   ]
  },
  {
   "cell_type": "code",
   "execution_count": 4,
   "metadata": {},
   "outputs": [],
   "source": [
    "#Criando uma tabela para cada uma das lojas\n",
    "dicionario_lojas = {}\n",
    "\n",
    "for loja in lojas_df['Loja']:\n",
    "    dicionario_lojas[loja] = vendas.loc[vendas['Loja'] == loja, :]"
   ]
  },
  {
   "cell_type": "code",
   "execution_count": 5,
   "metadata": {},
   "outputs": [
    {
     "name": "stdout",
     "output_type": "stream",
     "text": [
      "2019-12-26 00:00:00\n"
     ]
    }
   ],
   "source": [
    "#Pegando o dia do indicador - Minha maior data\n",
    "dia_indicador = vendas['Data'].max()\n",
    "print(dia_indicador)"
   ]
  },
  {
   "cell_type": "code",
   "execution_count": 6,
   "metadata": {},
   "outputs": [
    {
     "name": "stdout",
     "output_type": "stream",
     "text": [
      "['Bourbon Shopping SP', 'Center Shopping Uberlândia', 'Iguatemi Campinas', 'Iguatemi Esplanada', 'Norte Shopping', 'Novo Shopping Ribeirão Preto', 'Palladium Shopping Curitiba', 'Parque Dom Pedro Shopping', 'Passei das Águas Shopping', 'Ribeirão Shopping', 'Rio Mar Recife', 'Rio Mar Shopping Fortaleza', 'Salvador Shopping', 'Shopping Barra', 'Shopping Center Interlagos', 'Shopping Center Leste Aricanduva', 'Shopping Eldorado', 'Shopping Ibirapuera', 'Shopping Iguatemi Fortaleza', 'Shopping Midway Mall', 'Shopping Morumbi', 'Shopping Recife', 'Shopping SP Market', 'Shopping União de Osasco', 'Shopping Vila Velha']\n"
     ]
    }
   ],
   "source": [
    "#Criando a pasta de backup para salvar os arquivos\n",
    "\n",
    "caminho_backup = Path(r'Backup Arquivos Lojas')\n",
    "\n",
    "arquivos_pasta_backup = caminho_backup.iterdir()\n",
    "\n",
    "lista_nomes_backup = [arquivo.name for arquivo in arquivos_pasta_backup]\n",
    "\n",
    "\n",
    "#Criando as pastas na pasta de backup\n",
    "\n",
    "for loja in dicionario_lojas:\n",
    "    if loja not in lista_nomes_backup:\n",
    "        nova_pasta = caminho_backup / loja\n",
    "        nova_pasta.mkdir(exist_ok=True)\n",
    "\n",
    "    nome_arquivo = f'{dia_indicador.day}_{dia_indicador.month}_{loja}.xlsx'\n",
    "    local_arquivo = caminho_backup / loja / nome_arquivo\n",
    "\n",
    "    dicionario_lojas[loja].to_excel(local_arquivo)\n",
    "\n",
    "print(lista_nomes_backup)"
   ]
  }
 ],
 "metadata": {
  "kernelspec": {
   "display_name": "python311",
   "language": "python",
   "name": "python3"
  },
  "language_info": {
   "codemirror_mode": {
    "name": "ipython",
    "version": 3
   },
   "file_extension": ".py",
   "mimetype": "text/x-python",
   "name": "python",
   "nbconvert_exporter": "python",
   "pygments_lexer": "ipython3",
   "version": "3.11.5"
  }
 },
 "nbformat": 4,
 "nbformat_minor": 2
}
